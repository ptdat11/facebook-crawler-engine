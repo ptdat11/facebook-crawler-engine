{
 "cells": [
  {
   "cell_type": "code",
   "execution_count": 2,
   "metadata": {},
   "outputs": [],
   "source": [
    "from selenium import webdriver\n",
    "from selenium.webdriver.chrome.service import Service\n",
    "from webdriver_manager.chrome import ChromeDriverManager\n",
    "from selenium.webdriver.common.by import By\n",
    "from selenium.webdriver.remote.webelement import WebElement\n",
    "from selenium.webdriver.support.ui import WebDriverWait\n",
    "from selenium.webdriver.support import expected_conditions as EC\n",
    "from credentials import FacebookCookies\n",
    "\n",
    "driver_manager = ChromeDriverManager(latest_release_url=\"https://storage.googleapis.com/chrome-for-testing-public/125.0.6422.60/linux64/chrome-linux64.zip\").install()\n",
    "driver_service = Service(driver_manager)\n",
    "driver_options = webdriver.ChromeOptions()\n",
    "cookies_mngr = FacebookCookies()\n",
    "\n",
    "chrome = webdriver.Chrome(service=driver_service, options=driver_options)\n",
    "chrome.get(\"https://mbasic.facebook.com\")\n",
    "for cookie in cookies_mngr.load():\n",
    "    chrome.add_cookie(cookie)\n",
    "\n",
    "# https://web.facebook.com/chonlonglay/posts/pfbid02LXyjFmChaSwNCS7DaMYatr8KzbnMM5yQX7LCJuGXbDQRFw9JmunNR5LKzP3sjYMXl\n",
    "chrome.get(\"https://web.facebook.com/colinkkhong/posts/pfbid02JAGLyS7zjxPkCuHFc7ohRHahCsqzXFM6HcP8J5Pth5uLwxN3VQdEbonpAHmVsaH9l\")\n",
    "orig_tab = chrome.current_window_handle"
   ]
  },
  {
   "cell_type": "code",
   "execution_count": 44,
   "metadata": {},
   "outputs": [],
   "source": [
    "def show_all_replies(driver, threshold):\n",
    "    cnt = 1\n",
    "    while cnt <= threshold:\n",
    "        all_replied_comments = driver.find_elements(By.XPATH, \"//div[contains(@class, 'x1n2onr6 x46jau6')]\")\n",
    "        if len(all_replied_comments) == 0:\n",
    "            break\n",
    "\n",
    "        for comment in all_replied_comments:\n",
    "            cnt += 1\n",
    "            driver.execute_script(\"window.scrollBy(0, -50);\")  # Cuộn lên 50 dòng\n",
    "            try:\n",
    "                view_more_buttons = WebDriverWait(comment, 5).until(EC.element_to_be_clickable((By.XPATH, \"//div[contains(@class, 'x78zum5 x1iyjqo2 x21xpn4 x1n2onr6')]\")))\n",
    "                view_more_buttons.click()\n",
    "                for sub_cmt in comment:\n",
    "                # driver.execute_script(\"window.scrollTo(0, 900);\")\n",
    "                    try:\n",
    "                        view_more_sub_buttons = WebDriverWait(sub_cmt, 5).until(EC.element_to_be_clickable((By.XPATH, \"//div[contains(@class, 'x78zum5 x1iyjqo2 x21xpn4 x1n2onr6')]\")))\n",
    "                        view_more_sub_buttons.click()\n",
    "                    except:\n",
    "                        break\n",
    "            except Exception as e:\n",
    "                break"
   ]
  },
  {
   "cell_type": "code",
   "execution_count": 45,
   "metadata": {},
   "outputs": [],
   "source": [
    "import re\n",
    "\n",
    "def parse_text(text_element: WebElement):\n",
    "    text = text_element.get_attribute(\"innerHTML\")\n",
    "    text = re.sub(r\"(<img[^>]*alt=\\\"([^\\\"]+)\\\")[^>]*>\", r\"\\2\", text)\n",
    "    text = re.sub(r\"<a[^>]*>(.*?)</a>\", r\"href(\\1)\", text)\n",
    "    text = re.sub(r\"(?<=</div>)()(?=<div)\", r\"\\n\", text)\n",
    "    text = re.sub(r\"<.*?>\", \"\", text)\n",
    "    return text"
   ]
  },
  {
   "cell_type": "code",
   "execution_count": 46,
   "metadata": {},
   "outputs": [],
   "source": [
    "def extract_cmt_attachment_type(cmt_div: WebElement):\n",
    "        # Sticker: img, xz74otr x1uzojwf x10e4vud xa4qsjk xoj058f x1nxgg22 x10l6tqk x17qophe x13vifvy\n",
    "        # Image: img, xz74otr\n",
    "        # Video: video, x1lliihq x5yr21d xh8yej3\n",
    "        # GIF: div, x1i10hfl x1ypdohk xe8uvvx x1hl2dhg xggy1nq x1o1ewxj x3x9cwd x1e5q0jg x13rtm0m x87ps6o x1lku1pv x1a2a7pz xjyslct xjbqb8w x13fuv20 xu3j5b3 x1q0q8m5 x26u7qi x972fbf xcfux6l x1qhh985 xm0m39n x9f619 x5muytz x1lliihq x5yr21d xdj266r x11i5rnm xat24cr x1mh8g0r x6ikm8r x10wlt62 xexx8yu x4uap5 x18d9i69 xkhd6sd x1n2onr6 x16tdsg8 xh8yej3 x1ja2u2z\n",
    "        # External link: a, x1i10hfl xjbqb8w x1ejq31n xd10rxx x1sy0etr x17r0tee x972fbf xcfux6l x1qhh985 xm0m39n x9f619 x1ypdohk xt0psk2 xe8uvvx xdj266r x11i5rnm xat24cr x1mh8g0r xexx8yu x4uap5 x18d9i69 xkhd6sd x16tdsg8 x1hl2dhg xggy1nq x1a2a7pz x1ey2m1c xds687c x10l6tqk x17qophe x13vifvy xi2jdih\n",
    "\n",
    "        content_divs = cmt_div.find_elements(By.XPATH, \"div\")\n",
    "        if len(content_divs) == 2:\n",
    "            return \"no attachment\"\n",
    "        \n",
    "        attm_div = content_divs[1]\n",
    "        try:\n",
    "            attm_div.find_element(By.XPATH, \".//img[contains(@class, 'xz74otr x1uzojwf x10e4vud xa4qsjk xoj058f x1nxgg22 x10l6tqk x17qophe x13vifvy')]\")\n",
    "            return \"sticker\"\n",
    "        except: pass\n",
    "\n",
    "        try:\n",
    "            attm_div.find_element(By.XPATH, \".//img[contains(@class, 'xz74otr')]\")\n",
    "            return \"image\"\n",
    "        except: pass\n",
    "\n",
    "        try:\n",
    "            attm_div.find_element(By.XPATH, \".//video[contains(@class, 'x1lliihq x5yr21d xh8yej3')]\")\n",
    "            return \"video\"\n",
    "        except: pass\n",
    "\n",
    "        try:\n",
    "            attm_div.find_element(By.XPATH, \".//div[contains(@class, 'x1i10hfl x1ypdohk xe8uvvx x1hl2dhg xggy1nq x1o1ewxj x3x9cwd x1e5q0jg x13rtm0m x87ps6o x1lku1pv x1a2a7pz xjyslct xjbqb8w x13fuv20 xu3j5b3 x1q0q8m5 x26u7qi x972fbf xcfux6l x1qhh985 xm0m39n x9f619 x5muytz x1lliihq x5yr21d xdj266r x11i5rnm xat24cr x1mh8g0r x6ikm8r x10wlt62 xexx8yu x4uap5 x18d9i69 xkhd6sd x1n2onr6 x16tdsg8 xh8yej3 x1ja2u2z')]\")\n",
    "            return \"gif\"\n",
    "        except: pass\n",
    "\n",
    "        try:\n",
    "            attm_div.find_element(By.XPATH, \".//video[contains(@class, 'x1lliihq x5yr21d xh8yej3')]\")\n",
    "            return \"video\"\n",
    "        except: pass\n",
    "\n",
    "        return \"unknown\""
   ]
  },
  {
   "cell_type": "code",
   "execution_count": 3,
   "metadata": {},
   "outputs": [],
   "source": [
    "chrome.find_element(By.XPATH, \"//div[@class='x9f619 x1n2onr6 x1ja2u2z xt0psk2 xuxw1ft']\").click()\n",
    "chrome.find_element(By.XPATH, \"//div[@class='x4k7w5x x1h91t0o x1beo9mf xaigb6o x12ejxvf x3igimt xarpa2k xedcshv x1lytzrv x1t2pt76 x7ja8zs x1n2onr6 x1qrby5j x1jfb8zj']\").find_element(By.XPATH, \"(//div[@role='menuitem'])[3]\").click()\n",
    "# show_all_replies(chrome, 50)"
   ]
  },
  {
   "cell_type": "code",
   "execution_count": 10,
   "metadata": {},
   "outputs": [
    {
     "data": {
      "text/plain": [
       "[<selenium.webdriver.remote.webelement.WebElement (session=\"caa3bc46942e716ddcd07c170e36f5a6\", element=\"f.F941F852E2A57DC35EC22CF1A7243221.d.44E0C97EF5DB5611CBADF25B4D08CFB2.e.3569\")>]"
      ]
     },
     "execution_count": 10,
     "metadata": {},
     "output_type": "execute_result"
    }
   ],
   "source": [
    "comments = chrome.find_elements(By.XPATH, \"//div[contains(@class, 'x1r8uery x1iyjqo2 x6ikm8r x10wlt62 x1pi30zi')]\")\n",
    "[el for el in(\n",
    "    comments[13]\n",
    "    .find_element(By.CSS_SELECTOR, \"div\")\n",
    "    .find_element(By.CSS_SELECTOR, \"div\")\n",
    "    .find_element(By.CSS_SELECTOR, \"div\")\n",
    "    .find_element(By.CSS_SELECTOR, \"div\")\n",
    "    .find_elements(By.XPATH, \"*\")\n",
    ")]"
   ]
  },
  {
   "cell_type": "code",
   "execution_count": 48,
   "metadata": {},
   "outputs": [],
   "source": [
    "data = []\n",
    "comments = chrome.find_elements(By.XPATH, \"//div[contains(@class, 'x1r8uery x1iyjqo2 x6ikm8r x10wlt62 x1pi30zi')]\")\n",
    "for i, comment in enumerate(comments):\n",
    "    attachment_type = extract_cmt_attachment_type(comment)\n",
    "    if attachment_type == \"image\":\n",
    "        try:\n",
    "            text_div = comment.find_element(By.XPATH, \".//div[contains(@class, 'xdj266r x11i5rnm xat24cr x1mh8g0r x1vvkbs')]\")\n",
    "        except: continue\n",
    "        # img = comment.find_element(By.XPATH, \"(div)[2]\").find_element(By.XPATH, \"//img[contains(@class, 'xz74otr')]\")\n",
    "        img = comment.find_element(By.XPATH, \"(div)[2]\").find_element(By.TAG_NAME, \"img\")\n",
    "        \n",
    "        text = parse_text(text_div)\n",
    "        img_src = img.get_attribute(\"src\")\n",
    "\n",
    "        data.append({\n",
    "            \"text\": text,\n",
    "            \"image\": img_src\n",
    "        })"
   ]
  }
 ],
 "metadata": {
  "kernelspec": {
   "display_name": "venv",
   "language": "python",
   "name": "python3"
  },
  "language_info": {
   "codemirror_mode": {
    "name": "ipython",
    "version": 3
   },
   "file_extension": ".py",
   "mimetype": "text/x-python",
   "name": "python",
   "nbconvert_exporter": "python",
   "pygments_lexer": "ipython3",
   "version": "3.12.3"
  }
 },
 "nbformat": 4,
 "nbformat_minor": 2
}
