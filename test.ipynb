{
 "cells": [
  {
   "cell_type": "code",
   "execution_count": 1,
   "metadata": {},
   "outputs": [],
   "source": [
    "from selenium import webdriver\n",
    "from selenium.webdriver.chrome.service import Service\n",
    "from webdriver_manager.chrome import ChromeDriverManager\n",
    "from selenium.webdriver.common.by import By\n",
    "from selenium.webdriver.remote.webelement import WebElement\n",
    "from selenium.webdriver.support.ui import WebDriverWait\n",
    "from selenium.webdriver.support import expected_conditions as EC\n",
    "from credentials import FacebookCookies\n",
    "\n",
    "driver_manager = ChromeDriverManager(latest_release_url=\"https://storage.googleapis.com/chrome-for-testing-public/125.0.6422.60/linux64/chrome-linux64.zip\").install()\n",
    "driver_service = Service(driver_manager)\n",
    "driver_options = webdriver.ChromeOptions()\n",
    "cookies_mngr = FacebookCookies()\n",
    "\n",
    "chrome = webdriver.Chrome(service=driver_service, options=driver_options)\n",
    "chrome.get(\"https://mbasic.facebook.com\")\n",
    "for cookie in cookies_mngr.load():\n",
    "    chrome.add_cookie(cookie)\n",
    "\n",
    "chrome.get(\"https://web.facebook.com/photo.php?fbid=2726293660879001&set=p.2726293660879001&type=3\")\n",
    "orig_tab = chrome.current_window_handle"
   ]
  },
  {
   "cell_type": "code",
   "execution_count": 11,
   "metadata": {},
   "outputs": [
    {
     "data": {
      "text/plain": [
       "<img alt=\"Có thể là hình ảnh về 1 người và văn bản\" class=\"x85a59c x193iq5w x4fas0m x19kjcj4\" data-visualcompletion=\"media-vc-image\" referrerpolicy=\"origin-when-cross-origin\" src=\"https://scontent.fhan5-7.fna.fbcdn.net/v/t39.30808-6/442366203_2726293657545668_690857042084204032_n.jpg?stp=cp6_dst-jpg&amp;_nc_cat=102&amp;ccb=1-7&amp;_nc_sid=5f2048&amp;_nc_eui2=AeHYR3UYq0Clj_2_4lsxoUtivodWeQBuRU2-h1Z5AG5FTSOqiQ8tp3kQTrPlBS4VOnL2KwHIPpuGVvaL2b00X7XA&amp;_nc_ohc=GcjNSarnLFwQ7kNvgGhcGnw&amp;_nc_zt=23&amp;_nc_ht=scontent.fhan5-7.fna&amp;cb_e2o_trans=q&amp;oh=00_AYCGCGf2wHUP97V292otcobJXpC8_PPDF4dlqBotAMotyg&amp;oe=6657344E\"/>"
      ]
     },
     "execution_count": 11,
     "metadata": {},
     "output_type": "execute_result"
    }
   ],
   "source": [
    "import bs4\n",
    "\n",
    "soup = bs4.BeautifulSoup(chrome.page_source)\n",
    "soup.find(\n",
    "    \"img\",\n",
    "    attrs={\"data-visualcompletion\": \"media-vc-image\"}\n",
    ")"
   ]
  }
 ],
 "metadata": {
  "kernelspec": {
   "display_name": "venv",
   "language": "python",
   "name": "python3"
  },
  "language_info": {
   "codemirror_mode": {
    "name": "ipython",
    "version": 3
   },
   "file_extension": ".py",
   "mimetype": "text/x-python",
   "name": "python",
   "nbconvert_exporter": "python",
   "pygments_lexer": "ipython3",
   "version": "3.12.3"
  }
 },
 "nbformat": 4,
 "nbformat_minor": 2
}
