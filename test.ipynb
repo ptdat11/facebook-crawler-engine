{
 "cells": [
  {
   "cell_type": "code",
   "execution_count": 43,
   "metadata": {},
   "outputs": [],
   "source": [
    "from selenium import webdriver\n",
    "from selenium.webdriver.chrome.service import Service\n",
    "from webdriver_manager.chrome import ChromeDriverManager\n",
    "from selenium.webdriver.common.by import By\n",
    "from selenium.webdriver.remote.webelement import WebElement\n",
    "from selenium.webdriver.support.ui import WebDriverWait\n",
    "from selenium.webdriver.support import expected_conditions as EC\n",
    "from credentials import FacebookCookies\n",
    "\n",
    "driver_manager = ChromeDriverManager(latest_release_url=\"https://storage.googleapis.com/chrome-for-testing-public/125.0.6422.60/linux64/chrome-linux64.zip\").install()\n",
    "driver_service = Service(driver_manager)\n",
    "driver_options = webdriver.ChromeOptions()https://web.facebook.com/chonlonglay/posts/pfbid02LXyjFmChaSwNCS7DaMYatr8KzbnMM5yQX7LCJuGXbDQRFw9JmunNR5LKzP3sjYMXl\n",
    "cookies_mngr = FacebookCookies()\n",
    "\n",
    "chrome = webdriver.Chrome(service=driver_service, options=driver_options)\n",
    "chrome.get(\"https://mbasic.facebook.com\")\n",
    "for cookie in cookies_mngr.load():\n",
    "    chrome.add_cookie(cookie)\n",
    "\n",
    "# https://web.facebook.com/chonlonglay/posts/pfbid02LXyjFmChaSwNCS7DaMYatr8KzbnMM5yQX7LCJuGXbDQRFw9JmunNR5LKzP3sjYMXl\n",
    "chrome.get(\"https://www.facebook.com/colinkkhong/posts/pfbid0EJpdnmCAtXuiD3QhMomVfMUZoqgqkFABYhC7P8QRPAUt1rPm3EC42XaM92X6W8j4l\")\n",
    "orig_tab = chrome.current_window_handle"
   ]
  },
  {
   "cell_type": "code",
   "execution_count": 44,
   "metadata": {},
   "outputs": [],
   "source": [
    "def show_all_replies(driver, threshold):\n",
    "    cnt = 1\n",
    "    while cnt <= threshold:\n",
    "        all_replied_comments = driver.find_elements(By.XPATH, \"//div[contains(@class, 'x1n2onr6 x46jau6')]\")\n",
    "        if len(all_replied_comments) == 0:\n",
    "            break\n",
    "\n",
    "        for comment in all_replied_comments:\n",
    "            cnt += 1\n",
    "            driver.execute_script(\"window.scrollBy(0, -50);\")  # Cuộn lên 50 dòng\n",
    "            try:\n",
    "                view_more_buttons = WebDriverWait(comment, 5).until(EC.element_to_be_clickable((By.XPATH, \"//div[contains(@class, 'x78zum5 x1iyjqo2 x21xpn4 x1n2onr6')]\")))\n",
    "                view_more_buttons.click()\n",
    "                for sub_cmt in comment:\n",
    "                # driver.execute_script(\"window.scrollTo(0, 900);\")\n",
    "                    try:\n",
    "                        view_more_sub_buttons = WebDriverWait(sub_cmt, 5).until(EC.element_to_be_clickable((By.XPATH, \"//div[contains(@class, 'x78zum5 x1iyjqo2 x21xpn4 x1n2onr6')]\")))\n",
    "                        view_more_sub_buttons.click()\n",
    "                    except:\n",
    "                        break\n",
    "            except Exception as e:\n",
    "                break"
   ]
  },
  {
   "cell_type": "code",
   "execution_count": 45,
   "metadata": {},
   "outputs": [],
   "source": [
    "import re\n",
    "\n",
    "def parse_text(text_element: WebElement):\n",
    "    text = text_element.get_attribute(\"innerHTML\")\n",
    "    text = re.sub(r\"(<img[^>]*alt=\\\"([^\\\"]+)\\\")[^>]*>\", r\"\\2\", text)\n",
    "    text = re.sub(r\"<a[^>]*>(.*?)</a>\", r\"href(\\1)\", text)\n",
    "    text = re.sub(r\"(?<=</div>)()(?=<div)\", r\"\\n\", text)\n",
    "    text = re.sub(r\"<.*?>\", \"\", text)\n",
    "    return text"
   ]
  },
  {
   "cell_type": "code",
   "execution_count": 46,
   "metadata": {},
   "outputs": [],
   "source": [
    "def extract_cmt_attachment_type(cmt_div: WebElement):\n",
    "        # Sticker: img, xz74otr x1uzojwf x10e4vud xa4qsjk xoj058f x1nxgg22 x10l6tqk x17qophe x13vifvy\n",
    "        # Image: img, xz74otr\n",
    "        # Video: video, x1lliihq x5yr21d xh8yej3\n",
    "        # GIF: div, x1i10hfl x1ypdohk xe8uvvx x1hl2dhg xggy1nq x1o1ewxj x3x9cwd x1e5q0jg x13rtm0m x87ps6o x1lku1pv x1a2a7pz xjyslct xjbqb8w x13fuv20 xu3j5b3 x1q0q8m5 x26u7qi x972fbf xcfux6l x1qhh985 xm0m39n x9f619 x5muytz x1lliihq x5yr21d xdj266r x11i5rnm xat24cr x1mh8g0r x6ikm8r x10wlt62 xexx8yu x4uap5 x18d9i69 xkhd6sd x1n2onr6 x16tdsg8 xh8yej3 x1ja2u2z\n",
    "        # External link: a, x1i10hfl xjbqb8w x1ejq31n xd10rxx x1sy0etr x17r0tee x972fbf xcfux6l x1qhh985 xm0m39n x9f619 x1ypdohk xt0psk2 xe8uvvx xdj266r x11i5rnm xat24cr x1mh8g0r xexx8yu x4uap5 x18d9i69 xkhd6sd x16tdsg8 x1hl2dhg xggy1nq x1a2a7pz x1ey2m1c xds687c x10l6tqk x17qophe x13vifvy xi2jdih\n",
    "\n",
    "        content_divs = cmt_div.find_elements(By.XPATH, \"div\")\n",
    "        if len(content_divs) == 2:\n",
    "            return \"no attachment\"\n",
    "        \n",
    "        attm_div = content_divs[1]\n",
    "        try:\n",
    "            attm_div.find_element(By.XPATH, \".//img[contains(@class, 'xz74otr x1uzojwf x10e4vud xa4qsjk xoj058f x1nxgg22 x10l6tqk x17qophe x13vifvy')]\")\n",
    "            return \"sticker\"\n",
    "        except: pass\n",
    "\n",
    "        try:\n",
    "            attm_div.find_element(By.XPATH, \".//img[contains(@class, 'xz74otr')]\")\n",
    "            return \"image\"\n",
    "        except: pass\n",
    "\n",
    "        try:\n",
    "            attm_div.find_element(By.XPATH, \".//video[contains(@class, 'x1lliihq x5yr21d xh8yej3')]\")\n",
    "            return \"video\"\n",
    "        except: pass\n",
    "\n",
    "        try:\n",
    "            attm_div.find_element(By.XPATH, \".//div[contains(@class, 'x1i10hfl x1ypdohk xe8uvvx x1hl2dhg xggy1nq x1o1ewxj x3x9cwd x1e5q0jg x13rtm0m x87ps6o x1lku1pv x1a2a7pz xjyslct xjbqb8w x13fuv20 xu3j5b3 x1q0q8m5 x26u7qi x972fbf xcfux6l x1qhh985 xm0m39n x9f619 x5muytz x1lliihq x5yr21d xdj266r x11i5rnm xat24cr x1mh8g0r x6ikm8r x10wlt62 xexx8yu x4uap5 x18d9i69 xkhd6sd x1n2onr6 x16tdsg8 xh8yej3 x1ja2u2z')]\")\n",
    "            return \"gif\"\n",
    "        except: pass\n",
    "\n",
    "        try:\n",
    "            attm_div.find_element(By.XPATH, \".//video[contains(@class, 'x1lliihq x5yr21d xh8yej3')]\")\n",
    "            return \"video\"\n",
    "        except: pass\n",
    "\n",
    "        return \"unknown\""
   ]
  },
  {
   "cell_type": "code",
   "execution_count": 47,
   "metadata": {},
   "outputs": [],
   "source": [
    "chrome.find_element(By.XPATH, \"//div[@class='x9f619 x1n2onr6 x1ja2u2z xt0psk2 xuxw1ft']\").click()\n",
    "chrome.find_element(By.XPATH, \"//div[@class='x4k7w5x x1h91t0o x1beo9mf xaigb6o x12ejxvf x3igimt xarpa2k xedcshv x1lytzrv x1t2pt76 x7ja8zs x1n2onr6 x1qrby5j x1jfb8zj']\").find_element(By.XPATH, \"(//div[@role='menuitem'])[3]\").click()\n",
    "show_all_replies(chrome, 50)"
   ]
  },
  {
   "cell_type": "code",
   "execution_count": 48,
   "metadata": {},
   "outputs": [],
   "source": [
    "data = []\n",
    "comments = chrome.find_elements(By.XPATH, \"//div[contains(@class, 'x1r8uery x1iyjqo2 x6ikm8r x10wlt62 x1pi30zi')]\")\n",
    "for i, comment in enumerate(comments):\n",
    "    attachment_type = extract_cmt_attachment_type(comment)\n",
    "    if attachment_type == \"image\":\n",
    "        try:\n",
    "            text_div = comment.find_element(By.XPATH, \".//div[contains(@class, 'xdj266r x11i5rnm xat24cr x1mh8g0r x1vvkbs')]\")\n",
    "        except: continue\n",
    "        # img = comment.find_element(By.XPATH, \"(div)[2]\").find_element(By.XPATH, \"//img[contains(@class, 'xz74otr')]\")\n",
    "        img = comment.find_element(By.XPATH, \"(div)[2]\").find_element(By.TAG_NAME, \"img\")\n",
    "        \n",
    "        text = parse_text(text_div)\n",
    "        img_src = img.get_attribute(\"src\")\n",
    "\n",
    "        data.append({\n",
    "            \"text\": text,\n",
    "            \"image\": img_src\n",
    "        })"
   ]
  },
  {
   "cell_type": "code",
   "execution_count": 49,
   "metadata": {},
   "outputs": [
    {
     "data": {
      "text/plain": [
       "[{'text': 'href(Tô Duy Hoàn)',\n",
       "  'image': 'https://scontent.fsgn2-10.fna.fbcdn.net/v/t39.30808-6/445720346_122196903722008466_4302767549527818087_n.jpg?stp=dst-jpg_s261x260&_nc_cat=109&ccb=1-7&_nc_sid=5f2048&_nc_eui2=AeFQVqol38JQTpdV28gGeUfThkJAz5ZNFY6GQkDPlk0VjhtK_p2tdA_7bBusYJkWoK7b3_ROZiwj58Zbu_Q-I2S4&_nc_ohc=yCT_LviFOQkQ7kNvgFPdaF0&_nc_ht=scontent.fsgn2-10.fna&cb_e2o_trans=q&oh=00_AYDsiULzYWO0BhEQxSBCnvQrVSTiTBfqBdA3GILDAH3vLA&oe=665567A1'},\n",
       " {'text': 'href(Tô Duy Hoàn) SONE-218 khỏi cảm ơn',\n",
       "  'image': 'https://scontent.fsgn2-9.fna.fbcdn.net/v/t39.30808-6/442468955_2814997375323837_970758398908167654_n.jpg?stp=dst-jpg_p75x225&_nc_cat=106&ccb=1-7&_nc_sid=5f2048&_nc_eui2=AeHzAOlHGV3ZPIs-MRpYJVaU2ddEdu-rAJHZ10R276sAkTbmW2Ki_uVGWj88Ioq5CamAsKmNAVuns0aiKmxq-97U&_nc_ohc=O8DyfAPWar0Q7kNvgHWzvEn&_nc_ht=scontent.fsgn2-9.fna&cb_e2o_trans=q&oh=00_AYAuqtdakev71KW0abwuRLyWmk2UVgaMhdI--hbnqPQW5w&oe=665563E8'},\n",
       " {'text': 'href(Hocsinh3x) Khỏi xin , hóng ờ tê lê trang mk',\n",
       "  'image': 'https://scontent.fsgn2-7.fna.fbcdn.net/v/t39.30808-1/438031721_122102196536278465_5233334199858668687_n.jpg?stp=c0.39.100.100a_dst-jpg_p100x100&_nc_cat=108&ccb=1-7&_nc_sid=5f2048&_nc_eui2=AeHwkkRxuehxAaueukRH-2TztN5dApPkor203l0Ck-SivXfL_6dVYZgKRJZri4f9hcUPVRozEDWZ-Ni7azoa_4Jz&_nc_ohc=lfXmIqcObY8Q7kNvgGwf-hD&_nc_ht=scontent.fsgn2-7.fna&cb_e2o_trans=q&oh=00_AYBciimOVfGOCPfEQ1qBcNQ1lvRW3N1RbnyHJmxKIeCmMw&oe=665590E0'},\n",
       " {'text': 'Cũng đc',\n",
       "  'image': 'https://scontent.fsgn2-8.fna.fbcdn.net/v/t39.30808-6/442366203_2726293657545668_690857042084204032_n.jpg?stp=cp6_dst-jpg_p100x100&_nc_cat=102&ccb=1-7&_nc_sid=5f2048&_nc_eui2=AeHYR3UYq0Clj_2_4lsxoUtivodWeQBuRU2-h1Z5AG5FTSOqiQ8tp3kQTrPlBS4VOnL2KwHIPpuGVvaL2b00X7XA&_nc_ohc=GcjNSarnLFwQ7kNvgFlIJpK&_nc_ht=scontent.fsgn2-8.fna&cb_e2o_trans=q&oh=00_AYBjgGDP5vU8Nq6SOYJkpuJzYBUDnjMrNc666ClECHJwfQ&oe=6655724E'},\n",
       " {'text': 'href(Minh Hiếu) có cái lz',\n",
       "  'image': 'https://scontent.fsgn2-10.fna.fbcdn.net/v/t39.30808-6/444485452_3285485815094327_3325416988329467084_n.jpg?stp=dst-jpg_p75x225&_nc_cat=109&ccb=1-7&_nc_sid=5f2048&_nc_eui2=AeGE-Jl9MFMwPKJSeR6991nc4U9rkTNdLF3hT2uRM10sXTbS0tdAIBKWrVJX-cyXNI9irBAa0L9dWrjQWBvr0bls&_nc_ohc=SNSM91W4ZGYQ7kNvgH7F8bw&_nc_ht=scontent.fsgn2-10.fna&cb_e2o_trans=q&oh=00_AYDm8CkmE_7T5WuVPWLSfwBs-oZbr3inO6OQl7JXa6Iqdg&oe=66556C79'},\n",
       " {'text': 'href(Phan Thanh Tân)',\n",
       "  'image': 'https://scontent.fsgn2-5.fna.fbcdn.net/v/t39.30808-6/445192503_1454421792133568_4580313211420294612_n.jpg?stp=dst-jpg_s261x260&_nc_cat=104&ccb=1-7&_nc_sid=5f2048&_nc_eui2=AeGJYlXIGQMrO7qB7-xepRsQGeYAPCez-j0Z5gA8J7P6PUnTt7Njy0ydGxNP5W6XtnsRw4s2NXUUDcETvThYGlfG&_nc_ohc=H6ShVoOGdj0Q7kNvgF601L7&_nc_ht=scontent.fsgn2-5.fna&cb_e2o_trans=q&oh=00_AYAON2U_I9JLxH0ulo3lBHouSjGJQETwO6JxaBMwOUKOSA&oe=66556147'},\n",
       " {'text': 'SONE-218, khỏi cảm ơn',\n",
       "  'image': 'https://external.fsgn2-10.fna.fbcdn.net/emg1/v/t13/3234020974257796665?url=https%3A%2F%2Fmedia1.giphy.com%2Fmedia%2FtIeCLkB8geYtW%2Fgiphy.gif%3Fcid%3D999aceac0jbiwbrly22bn5q4pjbqo0i3cykw6ze1pfrsakqc%26ep%3Dv1_gifs_search%26rid%3Dgiphy.gif%26ct%3Dg&fb_obo=1&utld=giphy.com&stp=dst-gif_q75&_nc_eui2=AeHN3OpRmmYsNDbovR2XfUgou4h88X1-vha7iHzxfX6-FqdVRA4SpDB4wg05AZ-LbRyx4H_G2n8t44CxUihGHihp&ccb=13-1&oh=06_Q399GcAxRyBoGmKXOb54oyvHUaDf1LkceKIvDN6bcly8MS4&oe=665176CB&_nc_sid=9e3c15'},\n",
       " {'text': 'cám ơn Ss AI',\n",
       "  'image': 'https://scontent.fsgn2-7.fna.fbcdn.net/v/t39.30808-6/442494975_2628704387309732_6560493307426684077_n.jpg?stp=dst-jpg_p100x100&_nc_cat=108&ccb=1-7&_nc_sid=5f2048&_nc_eui2=AeE66X-c6ZihKyukSVQbRnh1S0UGChnK-G1LRQYKGcr4bXcXY7_Zz5NsBuPojBHjVuyy4EfMMx6TeN5Xp7OJWd18&_nc_ohc=PRvZ3GkrTuQQ7kNvgGQuOhL&_nc_ht=scontent.fsgn2-7.fna&cb_e2o_trans=q&oh=00_AYDyLXnsocz2n0vxMxM1mi_bAIUel9r0Wa2jKn5Ai9udwA&oe=66557CAF'},\n",
       " {'text': 'Nhanh không nó trôi mất 😉',\n",
       "  'image': 'https://scontent.fsgn2-5.fna.fbcdn.net/v/t39.30808-6/444501837_3645871562395724_7350562242755280221_n.jpg?stp=dst-jpg_s261x260&_nc_cat=104&ccb=1-7&_nc_sid=5f2048&_nc_eui2=AeH7eu5jYktvTiD7VQ7tvMvFiD7O_FMpFaSIPs78UykVpBdxZACipI_ZZFPK8qbUPq0DTkQnDomyRvmTd4OwITkO&_nc_ohc=I5wwJ2FfKUIQ7kNvgF7LFa7&_nc_ht=scontent.fsgn2-5.fna&cb_e2o_trans=q&oh=00_AYDjAVHt40vVjAsgT54kBQsah2D60ryFCqptAvx8leJEtA&oe=66556ED4'}]"
      ]
     },
     "execution_count": 49,
     "metadata": {},
     "output_type": "execute_result"
    }
   ],
   "source": [
    "data"
   ]
  }
 ],
 "metadata": {
  "kernelspec": {
   "display_name": "venv",
   "language": "python",
   "name": "python3"
  },
  "language_info": {
   "codemirror_mode": {
    "name": "ipython",
    "version": 3
   },
   "file_extension": ".py",
   "mimetype": "text/x-python",
   "name": "python",
   "nbconvert_exporter": "python",
   "pygments_lexer": "ipython3",
   "version": "3.12.3"
  }
 },
 "nbformat": 4,
 "nbformat_minor": 2
}
