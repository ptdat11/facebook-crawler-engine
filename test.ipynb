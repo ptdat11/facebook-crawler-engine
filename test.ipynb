{
 "cells": [
  {
   "cell_type": "code",
   "execution_count": 17,
   "metadata": {},
   "outputs": [],
   "source": [
    "from selenium import webdriver\n",
    "from selenium.webdriver.chrome.service import Service\n",
    "from webdriver_manager.chrome import ChromeDriverManager\n",
    "from selenium.webdriver.common.by import By\n",
    "from selenium.webdriver.remote.webelement import WebElement\n",
    "from selenium.webdriver.support.ui import WebDriverWait\n",
    "from selenium.webdriver.support import expected_conditions as EC\n",
    "from credentials import FacebookCookies\n",
    "\n",
    "driver_manager = ChromeDriverManager(latest_release_url=\"https://storage.googleapis.com/chrome-for-testing-public/125.0.6422.60/linux64/chrome-linux64.zip\").install()\n",
    "driver_service = Service(driver_manager)\n",
    "driver_options = webdriver.ChromeOptions()\n",
    "cookies_mngr = FacebookCookies()\n",
    "\n",
    "chrome = webdriver.Chrome(service=driver_service, options=driver_options)\n",
    "# chrome.get(\"https://mbasic.facebook.com\")\n",
    "# for cookie in cookies_mngr.load():\n",
    "#     chrome.add_cookie(cookie)\n",
    "\n",
    "chrome.get(\"https://facebook.com/1010319812973958\")\n",
    "orig_tab = chrome.current_window_handle"
   ]
  },
  {
   "cell_type": "code",
   "execution_count": 40,
   "metadata": {},
   "outputs": [
    {
     "data": {
      "text/plain": [
       "165"
      ]
     },
     "execution_count": 40,
     "metadata": {},
     "output_type": "execute_result"
    }
   ],
   "source": [
    "import pandas as pd\n",
    "\n",
    "df = pd.read_csv(\"data/ChiHieuHon/ChiHieuHon.csv\")\n",
    "# pd.DataFrame(df.groupby([\"page_id\", \"type\"]).count().loc[:, \"post_id\"]).rename(columns={\"post_id\": \"count\"})\n",
    "df.shape[0]"
   ]
  }
 ],
 "metadata": {
  "kernelspec": {
   "display_name": "venv",
   "language": "python",
   "name": "python3"
  },
  "language_info": {
   "codemirror_mode": {
    "name": "ipython",
    "version": 3
   },
   "file_extension": ".py",
   "mimetype": "text/x-python",
   "name": "python",
   "nbconvert_exporter": "python",
   "pygments_lexer": "ipython3",
   "version": "3.12.3"
  }
 },
 "nbformat": 4,
 "nbformat_minor": 2
}
