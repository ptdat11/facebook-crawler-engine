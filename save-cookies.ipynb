{
 "cells": [
  {
   "cell_type": "markdown",
   "metadata": {},
   "source": [
    "# Hướng dẫn lưu Cookies trong máy để giữ phiên đăng nhập"
   ]
  },
  {
   "cell_type": "markdown",
   "metadata": {},
   "source": [
    "## 1. Mở Chrome driver bên dưới\n",
    "\n",
    "Thay thế URL (vị trí được note ở dưới) của driver cho thích hợp với phiên bản của Google Chrome trong máy và thích hợp với hệ điều hành. URL cần thay có thể được tra tại [https://googlechromelabs.github.io/chrome-for-testing/](https://googlechromelabs.github.io/chrome-for-testing/)"
   ]
  },
  {
   "cell_type": "code",
   "execution_count": 2,
   "metadata": {},
   "outputs": [],
   "source": [
    "from selenium import webdriver\n",
    "from selenium.webdriver.chrome.service import Service\n",
    "from webdriver_manager.chrome import ChromeDriverManager\n",
    "from credentials import FacebookCookies\n",
    "\n",
    "# Thay URL ở đây\n",
    "driver_manager = ChromeDriverManager(latest_release_url=\"https://storage.googleapis.com/chrome-for-testing-public/125.0.6422.60/linux64/chrome-linux64.zip\").install()\n",
    "driver_service = Service(driver_manager)\n",
    "driver_options = webdriver.ChromeOptions()\n",
    "cookies_mngr = FacebookCookies()\n",
    "\n",
    "chrome = webdriver.Chrome(service=driver_service, options=driver_options)\n",
    "chrome.get(\"https://mbasic.facebook.com\")"
   ]
  },
  {
   "cell_type": "markdown",
   "metadata": {},
   "source": [
    "## 2. Đăng nhập vô Facebook bằng email và mật khẩu của mình\n",
    "\n",
    "> Lưu ý: Đừng tắt driver sau khi đăng nhập xong.\n",
    "\n",
    "## 3. Lưu lại cookies vào local\n",
    "\n",
    "Bằng cách chạy code cell dưới đây."
   ]
  },
  {
   "cell_type": "code",
   "execution_count": null,
   "metadata": {},
   "outputs": [],
   "source": [
    "from credentials import FacebookCookies\n",
    "\n",
    "# Khởi tạo cookies manager\n",
    "cookies_dir = \"./fb-cookies\"\n",
    "cookies_manager = FacebookCookies(dir_path=cookies_dir)\n",
    "\n",
    "# Lưu giữ cookies của phiên đăng nhập vừa rồi\n",
    "cookies = chrome.get_cookies()\n",
    "cookies_manager.save(cookies)"
   ]
  },
  {
   "cell_type": "markdown",
   "metadata": {},
   "source": [
    "Việc lưu lại cookies đến đây là hoàn thành. Sau đó làm theo hướng dẫn như file `README.md` để bắt đầu crawl từ Facebook."
   ]
  }
 ],
 "metadata": {
  "kernelspec": {
   "display_name": "venv",
   "language": "python",
   "name": "python3"
  },
  "language_info": {
   "codemirror_mode": {
    "name": "ipython",
    "version": 3
   },
   "file_extension": ".py",
   "mimetype": "text/x-python",
   "name": "python",
   "nbconvert_exporter": "python",
   "pygments_lexer": "ipython3",
   "version": "3.12.3"
  }
 },
 "nbformat": 4,
 "nbformat_minor": 2
}
