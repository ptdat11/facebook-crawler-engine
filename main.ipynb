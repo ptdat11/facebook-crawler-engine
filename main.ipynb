{
 "cells": [
  {
   "cell_type": "code",
   "execution_count": 8,
   "metadata": {},
   "outputs": [],
   "source": [
    "import threading\n",
    "from selenium import webdriver\n",
    "from selenium.webdriver.chrome.service import Service\n",
    "from webdriver_manager.chrome import ChromeDriverManager\n",
    "from selenium.webdriver.common.by import By\n",
    "from selenium.webdriver.remote.webelement import WebElement\n",
    "from selenium.webdriver.support.ui import WebDriverWait\n",
    "\n",
    "driver_manager = ChromeDriverManager(latest_release_url=\"https://storage.googleapis.com/chrome-for-testing-public/125.0.6422.60/linux64/chrome-linux64.zip\").install()\n",
    "driver_service = Service(driver_manager)\n",
    "driver_options = webdriver.ChromeOptions()\n",
    "driver_options.add_experimental_option(\"detach\", True)\n",
    "\n",
    "\n",
    "chrome = webdriver.Chrome(service=driver_service, options=driver_options)"
   ]
  },
  {
   "cell_type": "code",
   "execution_count": 16,
   "metadata": {},
   "outputs": [],
   "source": [
    "chrome.get(\"https://mbasic.facebook.com/profile/timeline/stream/?cursor=AQHRl9zFv-FyQLI8o5WsR_djv4isimwYuOoLVpOtW5NFNcakkIyydqhmaugXneHNXD9p3Pf3P9y32uHgr8snygMx0ufFVYoNO-Opp2miUeeaNF4Xy1xsEZ0SasrJUEoXSxP2kH9M2oF5eK3euNIrW2reTVcmIRT7PwGGq7zBx7Zjf1OwoeqbYHfwjzEsIJ2zPWZ-E5pwIQ-zW0w8hyl3Y_SgK3q_Sp-Upufa3Y5bA3tAaR4nariRP7KW5ibwTcXuRt5DdaccoEb8oHta6DpsPgsF9yVdhFSZHjBQ1CnNJRGTiw3lFYlMHcuFpgnFjQ9ZJyUcuaP7nROn9HZAFb9u8oEUVLLX-KYJHHuq-3z2lqx_0OLnekgzZmZzeygCZu7rQSO7A-7FlEW_vSrKXl7q7Nlralf5kR2sT-4MERwhUzMNq9o4GcGZz2hGauK1r_hcK77Fc3vA8FfBQu3Yg_-Pmi_lNg5OoLliHBSOlCkaq8D58GQN8aVlxwrzzpufFsx9aOLHz4EkMOqtxHkxstIfIk_Z42G9CQuvGKSYRDAIbQBcxVxAGRxeyKZyg5enihWKHgMMugW63OZb9P5yELpzVBfu9b3vJoOvoxgQ9ihCFbylNVfaw_-2j6R_ZBybt6wt2lVWo2PrpKT3R4pV4sGeYhV9oECgCWFYkJRR5QbyVLyj6UIEcQV5ga1wuHe36CgSp7LUyNd8Za22pi9oYS0KiQXfz3G-gLwBaazR15nfL0H0-X5oRM3LqO5aUNGUO0cITXIk&profile_id=100050422242650&replace_id=u_0_0_yb&paipv=0&eav=AfZNEb7-kAyipXx7xCrvQYDSX4ndmU7IR-htWg5o8WRp9OWWcdulSi5eV7WUeCK8ncE\")"
   ]
  },
  {
   "cell_type": "code",
   "execution_count": 15,
   "metadata": {},
   "outputs": [],
   "source": [
    "from credentials import FacebookCookies\n",
    "\n",
    "cookies_mngr = FacebookCookies()\n",
    "for cookie in cookies_mngr.load():\n",
    "    chrome.add_cookie(cookie)"
   ]
  },
  {
   "cell_type": "code",
   "execution_count": 25,
   "metadata": {},
   "outputs": [
    {
     "ename": "NoSuchElementException",
     "evalue": "Message: no such element: Unable to locate element: {\"method\":\"css selector\",\"selector\":\"article\"}\n  (Session info: chrome=125.0.6422.60)\nStacktrace:\n#0 0x56196ce39eca <unknown>\n#1 0x56196cb2345c <unknown>\n#2 0x56196cb6f5b5 <unknown>\n#3 0x56196cb6f671 <unknown>\n#4 0x56196cb63b96 <unknown>\n#5 0x56196cb924dd <unknown>\n#6 0x56196cb63a79 <unknown>\n#7 0x56196cb9267e <unknown>\n#8 0x56196cbb12cc <unknown>\n#9 0x56196cb92253 <unknown>\n#10 0x56196cb621c7 <unknown>\n#11 0x56196cb62b3e <unknown>\n#12 0x56196ce0030b <unknown>\n#13 0x56196ce043b7 <unknown>\n#14 0x56196cdece3e <unknown>\n#15 0x56196ce04e82 <unknown>\n#16 0x56196cdd17df <unknown>\n#17 0x56196ce291b8 <unknown>\n#18 0x56196ce2938b <unknown>\n#19 0x56196ce38ffc <unknown>\n#20 0x7bb51129ca94 <unknown>\n#21 0x7bb511329c3c <unknown>\n",
     "output_type": "error",
     "traceback": [
      "\u001b[0;31m---------------------------------------------------------------------------\u001b[0m",
      "\u001b[0;31mNoSuchElementException\u001b[0m                    Traceback (most recent call last)",
      "Cell \u001b[0;32mIn[25], line 4\u001b[0m\n\u001b[1;32m      1\u001b[0m content: WebElement \u001b[38;5;241m=\u001b[39m chrome\u001b[38;5;241m.\u001b[39mfind_element(By\u001b[38;5;241m.\u001b[39mID, \u001b[38;5;124m\"\u001b[39m\u001b[38;5;124mstructured_composer_async_container\u001b[39m\u001b[38;5;124m\"\u001b[39m)\u001b[38;5;241m.\u001b[39mfind_element(By\u001b[38;5;241m.\u001b[39mTAG_NAME, \u001b[38;5;124m\"\u001b[39m\u001b[38;5;124msection\u001b[39m\u001b[38;5;124m\"\u001b[39m)\u001b[38;5;241m.\u001b[39mfind_elements(By\u001b[38;5;241m.\u001b[39mXPATH, \u001b[38;5;124m\"\u001b[39m\u001b[38;5;124marticle\u001b[39m\u001b[38;5;124m\"\u001b[39m)[\u001b[38;5;241m8\u001b[39m]\u001b[38;5;241m.\u001b[39mfind_element(By\u001b[38;5;241m.\u001b[39mTAG_NAME, \u001b[38;5;124m\"\u001b[39m\u001b[38;5;124mdiv\u001b[39m\u001b[38;5;124m\"\u001b[39m)\u001b[38;5;241m.\u001b[39mfind_elements(By\u001b[38;5;241m.\u001b[39mXPATH, \u001b[38;5;124m\"\u001b[39m\u001b[38;5;124mdiv\u001b[39m\u001b[38;5;124m\"\u001b[39m)\n\u001b[1;32m      3\u001b[0m att: WebElement \u001b[38;5;241m=\u001b[39m content[\u001b[38;5;241m1\u001b[39m]\n\u001b[0;32m----> 4\u001b[0m \u001b[43matt\u001b[49m\u001b[38;5;241;43m.\u001b[39;49m\u001b[43mfind_element\u001b[49m\u001b[43m(\u001b[49m\u001b[43mBy\u001b[49m\u001b[38;5;241;43m.\u001b[39;49m\u001b[43mTAG_NAME\u001b[49m\u001b[43m,\u001b[49m\u001b[43m \u001b[49m\u001b[38;5;124;43m\"\u001b[39;49m\u001b[38;5;124;43marticle\u001b[39;49m\u001b[38;5;124;43m\"\u001b[39;49m\u001b[43m)\u001b[49m\n",
      "File \u001b[0;32m~/Desktop/venv/lib/python3.12/site-packages/selenium/webdriver/remote/webelement.py:735\u001b[0m, in \u001b[0;36mWebElement.find_element\u001b[0;34m(self, by, value)\u001b[0m\n\u001b[1;32m    732\u001b[0m     by \u001b[38;5;241m=\u001b[39m By\u001b[38;5;241m.\u001b[39mCSS_SELECTOR\n\u001b[1;32m    733\u001b[0m     value \u001b[38;5;241m=\u001b[39m \u001b[38;5;124m'\u001b[39m\u001b[38;5;124m[name=\u001b[39m\u001b[38;5;124m\"\u001b[39m\u001b[38;5;132;01m%s\u001b[39;00m\u001b[38;5;124m\"\u001b[39m\u001b[38;5;124m]\u001b[39m\u001b[38;5;124m'\u001b[39m \u001b[38;5;241m%\u001b[39m value\n\u001b[0;32m--> 735\u001b[0m \u001b[38;5;28;01mreturn\u001b[39;00m \u001b[38;5;28;43mself\u001b[39;49m\u001b[38;5;241;43m.\u001b[39;49m\u001b[43m_execute\u001b[49m\u001b[43m(\u001b[49m\u001b[43mCommand\u001b[49m\u001b[38;5;241;43m.\u001b[39;49m\u001b[43mFIND_CHILD_ELEMENT\u001b[49m\u001b[43m,\u001b[49m\n\u001b[1;32m    736\u001b[0m \u001b[43m                     \u001b[49m\u001b[43m{\u001b[49m\u001b[38;5;124;43m\"\u001b[39;49m\u001b[38;5;124;43musing\u001b[39;49m\u001b[38;5;124;43m\"\u001b[39;49m\u001b[43m:\u001b[49m\u001b[43m \u001b[49m\u001b[43mby\u001b[49m\u001b[43m,\u001b[49m\u001b[43m \u001b[49m\u001b[38;5;124;43m\"\u001b[39;49m\u001b[38;5;124;43mvalue\u001b[39;49m\u001b[38;5;124;43m\"\u001b[39;49m\u001b[43m:\u001b[49m\u001b[43m \u001b[49m\u001b[43mvalue\u001b[49m\u001b[43m}\u001b[49m\u001b[43m)\u001b[49m[\u001b[38;5;124m'\u001b[39m\u001b[38;5;124mvalue\u001b[39m\u001b[38;5;124m'\u001b[39m]\n",
      "File \u001b[0;32m~/Desktop/venv/lib/python3.12/site-packages/selenium/webdriver/remote/webelement.py:710\u001b[0m, in \u001b[0;36mWebElement._execute\u001b[0;34m(self, command, params)\u001b[0m\n\u001b[1;32m    708\u001b[0m     params \u001b[38;5;241m=\u001b[39m {}\n\u001b[1;32m    709\u001b[0m params[\u001b[38;5;124m'\u001b[39m\u001b[38;5;124mid\u001b[39m\u001b[38;5;124m'\u001b[39m] \u001b[38;5;241m=\u001b[39m \u001b[38;5;28mself\u001b[39m\u001b[38;5;241m.\u001b[39m_id\n\u001b[0;32m--> 710\u001b[0m \u001b[38;5;28;01mreturn\u001b[39;00m \u001b[38;5;28;43mself\u001b[39;49m\u001b[38;5;241;43m.\u001b[39;49m\u001b[43m_parent\u001b[49m\u001b[38;5;241;43m.\u001b[39;49m\u001b[43mexecute\u001b[49m\u001b[43m(\u001b[49m\u001b[43mcommand\u001b[49m\u001b[43m,\u001b[49m\u001b[43m \u001b[49m\u001b[43mparams\u001b[49m\u001b[43m)\u001b[49m\n",
      "File \u001b[0;32m~/Desktop/venv/lib/python3.12/site-packages/selenium/webdriver/remote/webdriver.py:424\u001b[0m, in \u001b[0;36mWebDriver.execute\u001b[0;34m(self, driver_command, params)\u001b[0m\n\u001b[1;32m    422\u001b[0m response \u001b[38;5;241m=\u001b[39m \u001b[38;5;28mself\u001b[39m\u001b[38;5;241m.\u001b[39mcommand_executor\u001b[38;5;241m.\u001b[39mexecute(driver_command, params)\n\u001b[1;32m    423\u001b[0m \u001b[38;5;28;01mif\u001b[39;00m response:\n\u001b[0;32m--> 424\u001b[0m     \u001b[38;5;28;43mself\u001b[39;49m\u001b[38;5;241;43m.\u001b[39;49m\u001b[43merror_handler\u001b[49m\u001b[38;5;241;43m.\u001b[39;49m\u001b[43mcheck_response\u001b[49m\u001b[43m(\u001b[49m\u001b[43mresponse\u001b[49m\u001b[43m)\u001b[49m\n\u001b[1;32m    425\u001b[0m     response[\u001b[38;5;124m'\u001b[39m\u001b[38;5;124mvalue\u001b[39m\u001b[38;5;124m'\u001b[39m] \u001b[38;5;241m=\u001b[39m \u001b[38;5;28mself\u001b[39m\u001b[38;5;241m.\u001b[39m_unwrap_value(\n\u001b[1;32m    426\u001b[0m         response\u001b[38;5;241m.\u001b[39mget(\u001b[38;5;124m'\u001b[39m\u001b[38;5;124mvalue\u001b[39m\u001b[38;5;124m'\u001b[39m, \u001b[38;5;28;01mNone\u001b[39;00m))\n\u001b[1;32m    427\u001b[0m     \u001b[38;5;28;01mreturn\u001b[39;00m response\n",
      "File \u001b[0;32m~/Desktop/venv/lib/python3.12/site-packages/selenium/webdriver/remote/errorhandler.py:247\u001b[0m, in \u001b[0;36mErrorHandler.check_response\u001b[0;34m(self, response)\u001b[0m\n\u001b[1;32m    245\u001b[0m         alert_text \u001b[38;5;241m=\u001b[39m value[\u001b[38;5;124m'\u001b[39m\u001b[38;5;124malert\u001b[39m\u001b[38;5;124m'\u001b[39m]\u001b[38;5;241m.\u001b[39mget(\u001b[38;5;124m'\u001b[39m\u001b[38;5;124mtext\u001b[39m\u001b[38;5;124m'\u001b[39m)\n\u001b[1;32m    246\u001b[0m     \u001b[38;5;28;01mraise\u001b[39;00m exception_class(message, screen, stacktrace, alert_text)  \u001b[38;5;66;03m# type: ignore[call-arg]  # mypy is not smart enough here\u001b[39;00m\n\u001b[0;32m--> 247\u001b[0m \u001b[38;5;28;01mraise\u001b[39;00m exception_class(message, screen, stacktrace)\n",
      "\u001b[0;31mNoSuchElementException\u001b[0m: Message: no such element: Unable to locate element: {\"method\":\"css selector\",\"selector\":\"article\"}\n  (Session info: chrome=125.0.6422.60)\nStacktrace:\n#0 0x56196ce39eca <unknown>\n#1 0x56196cb2345c <unknown>\n#2 0x56196cb6f5b5 <unknown>\n#3 0x56196cb6f671 <unknown>\n#4 0x56196cb63b96 <unknown>\n#5 0x56196cb924dd <unknown>\n#6 0x56196cb63a79 <unknown>\n#7 0x56196cb9267e <unknown>\n#8 0x56196cbb12cc <unknown>\n#9 0x56196cb92253 <unknown>\n#10 0x56196cb621c7 <unknown>\n#11 0x56196cb62b3e <unknown>\n#12 0x56196ce0030b <unknown>\n#13 0x56196ce043b7 <unknown>\n#14 0x56196cdece3e <unknown>\n#15 0x56196ce04e82 <unknown>\n#16 0x56196cdd17df <unknown>\n#17 0x56196ce291b8 <unknown>\n#18 0x56196ce2938b <unknown>\n#19 0x56196ce38ffc <unknown>\n#20 0x7bb51129ca94 <unknown>\n#21 0x7bb511329c3c <unknown>\n"
     ]
    }
   ],
   "source": [
    "content: WebElement = chrome.find_element(By.ID, \"structured_composer_async_container\").find_element(By.TAG_NAME, \"section\").find_elements(By.XPATH, \"article\")[8].find_element(By.TAG_NAME, \"div\").find_elements(By.XPATH, \"div\")\n",
    "\n",
    "att: WebElement = content[1]\n",
    "att.find_element(By.TAG_NAME, \"article\")"
   ]
  }
 ],
 "metadata": {
  "kernelspec": {
   "display_name": "venv",
   "language": "python",
   "name": "python3"
  },
  "language_info": {
   "codemirror_mode": {
    "name": "ipython",
    "version": 3
   },
   "file_extension": ".py",
   "mimetype": "text/x-python",
   "name": "python",
   "nbconvert_exporter": "python",
   "pygments_lexer": "ipython3",
   "version": "3.12.3"
  }
 },
 "nbformat": 4,
 "nbformat_minor": 2
}
