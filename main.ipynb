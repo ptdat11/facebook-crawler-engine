{
 "cells": [
  {
   "cell_type": "code",
   "execution_count": 3,
   "metadata": {},
   "outputs": [],
   "source": [
    "from selenium import webdriver\n",
    "from selenium.webdriver.chrome.service import Service\n",
    "from webdriver_manager.chrome import ChromeDriverManager\n",
    "from selenium.webdriver.common.by import By\n",
    "from selenium.webdriver.remote.webelement import WebElement\n",
    "from post import PagePostMetadata\n",
    "\n",
    "import getpass\n",
    "\n",
    "manager = ChromeDriverManager(latest_release_url=\"https://storage.googleapis.com/chrome-for-testing-public/125.0.6422.60/linux64/chrome-linux64.zip\").install()\n",
    "service = Service(manager)\n",
    "options = webdriver.ChromeOptions()\n",
    "options.add_experimental_option(\"detach\", True)\n",
    "\n",
    "chrome = webdriver.Chrome(service=service, options=options)"
   ]
  },
  {
   "cell_type": "code",
   "execution_count": 2,
   "metadata": {},
   "outputs": [],
   "source": [
    "chrome.get(\"https://mbasic.facebook.com/\")"
   ]
  },
  {
   "cell_type": "code",
   "execution_count": 3,
   "metadata": {},
   "outputs": [],
   "source": [
    "# Get input elements\n",
    "email_input = chrome.find_element(By.NAME, \"email\")\n",
    "pass_input = chrome.find_element(By.NAME, \"pass\")\n",
    "\n",
    "# Fill the form\n",
    "email_input.send_keys(\"ptdat01012003@outlook.com\")\n",
    "pass_input.click()\n",
    "pass_input.send_keys(getpass.getpass())\n",
    "\n",
    "# Submit form\n",
    "login_btn = chrome.find_element(By.NAME, \"login\")\n",
    "login_btn.click()\n",
    "\n",
    "# Remember this device\n",
    "remember_device_btn = chrome.find_element(By.XPATH, \"//input[(@value='OK') and (@class = 'bo bp bq br bs')]\")\n",
    "remember_device_btn.click()"
   ]
  },
  {
   "cell_type": "code",
   "execution_count": 4,
   "metadata": {},
   "outputs": [],
   "source": [
    "page_id =  \"ThoBayMau\"\n",
    "chrome.get(\"https://mbasic.facebook.com/{0}?v=timeline\".format(page_id))"
   ]
  },
  {
   "cell_type": "code",
   "execution_count": 5,
   "metadata": {},
   "outputs": [],
   "source": [
    "posts: list[WebElement] = chrome.find_elements(By.TAG_NAME, \"article\")"
   ]
  },
  {
   "cell_type": "code",
   "execution_count": 6,
   "metadata": {},
   "outputs": [
    {
     "name": "stdout",
     "output_type": "stream",
     "text": [
      "{'page_id': 'ThoBayMau', 'post_id': '997120655312000', 'post_url': 'https://facebook.com/997120655312000', 'date': datetime.datetime(2024, 5, 5, 14, 24), 'attachment_types': ['image']}\n",
      "{'page_id': 'ThoBayMau', 'post_id': '986106676413398', 'post_url': 'https://facebook.com/986106676413398', 'date': datetime.datetime(2024, 4, 17, 20, 0), 'attachment_types': ['image']}\n",
      "{'page_id': 'ThoBayMau', 'post_id': '984885456535520', 'post_url': 'https://facebook.com/984885456535520', 'date': datetime.datetime(2024, 4, 15, 20, 19), 'attachment_types': ['image']}\n",
      "{'page_id': 'ThoBayMau', 'post_id': '977704610586938', 'post_url': 'https://facebook.com/977704610586938', 'date': datetime.datetime(2024, 4, 3, 20, 8), 'attachment_types': ['image']}\n",
      "{'page_id': 'ThoBayMau', 'post_id': '961443245546408', 'post_url': 'https://facebook.com/961443245546408', 'date': datetime.datetime(2024, 3, 5, 23, 30), 'attachment_types': []}\n"
     ]
    }
   ],
   "source": [
    "data = []\n",
    "for post in posts:\n",
    "    metadata = PagePostMetaData(page_id, post).to_json()\n",
    "    print(metadata)"
   ]
  },
  {
   "cell_type": "code",
   "execution_count": 33,
   "metadata": {},
   "outputs": [],
   "source": [
    "chrome.switch_to.new_window(\"tab\")"
   ]
  },
  {
   "cell_type": "code",
   "execution_count": 44,
   "metadata": {},
   "outputs": [],
   "source": [
    "text, img = chrome.find_elements(By.CLASS_NAME, \"html-div\")[8].find_elements(By.XPATH, \"div\")"
   ]
  },
  {
   "cell_type": "code",
   "execution_count": 4,
   "metadata": {},
   "outputs": [
    {
     "data": {
      "text/plain": [
       "'tintucvtv24'"
      ]
     },
     "execution_count": 4,
     "metadata": {},
     "output_type": "execute_result"
    }
   ],
   "source": []
  }
 ],
 "metadata": {
  "kernelspec": {
   "display_name": "venv",
   "language": "python",
   "name": "python3"
  },
  "language_info": {
   "codemirror_mode": {
    "name": "ipython",
    "version": 3
   },
   "file_extension": ".py",
   "mimetype": "text/x-python",
   "name": "python",
   "nbconvert_exporter": "python",
   "pygments_lexer": "ipython3",
   "version": "3.12.3"
  }
 },
 "nbformat": 4,
 "nbformat_minor": 2
}
